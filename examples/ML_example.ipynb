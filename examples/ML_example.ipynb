{
 "cells": [
  {
   "cell_type": "code",
   "execution_count": null,
   "metadata": {},
   "outputs": [],
   "source": [
    "import seaborn as sn\n",
    "import matplotlib.pyplot as plt\n",
    "import numpy as np\n",
    "import pandas as pd\n",
    "from sklearn.ensemble import GradientBoostingClassifier\n",
    "from sklearn.utils import shuffle\n",
    "from sklearn.ensemble import AdaBoostClassifier"
   ]
  },
  {
   "cell_type": "code",
   "execution_count": null,
   "metadata": {},
   "outputs": [],
   "source": [
    "sig = pd.read_csv('WpWpJJ_EWK_2017_uptoBveto.gz.csv', compression = 'gzip')\n",
    "bkg = pd.read_csv('Wjets_2017_uptoBveto.gz.csv', compression = 'gzip')"
   ]
  },
  {
   "cell_type": "code",
   "execution_count": null,
   "metadata": {},
   "outputs": [],
   "source": [
    "X_sig = sig.drop(columns=['entry','w_nominal','lepSF[0]', 'lepUp[0]', 'lepDown[0]', 'puSF[0]', 'puUp[0]',\n",
    "       'puDown[0]', 'PFSF[0]', 'PFUp[0]', 'PFDown[0]', 'q2Up[0]', 'q2Down[0]','w_PDF','SF_Fake[0]']).to_numpy()[:3842]\n",
    "X_bkg = bkg.drop(columns=['Unnamed: 0','w_nominal','lepSF[0]', 'lepUp[0]', 'lepDown[0]', 'puSF[0]', 'puUp[0]',\n",
    "       'puDown[0]', 'PFSF[0]', 'PFUp[0]', 'PFDown[0]', 'q2Up[0]', 'q2Down[0]','w_PDF','SF_Fake[0]']).to_numpy()[:3842]\n",
    "y_sig = np.ones(X_sig.shape[0])\n",
    "y_bkg = - np.ones(X_bkg.shape[0])\n",
    "X = np.concatenate([X_sig,X_bkg])\n",
    "y = np.concatenate([y_sig,y_bkg])\n",
    "X_shuffled, y_shuffled = shuffle(X, y)\n",
    "X_train, X_test = X_shuffled[:1621], X_shuffled[1621:]\n",
    "y_train, y_test = y_shuffled[:1621], y_shuffled[1621:]"
   ]
  },
  {
   "cell_type": "code",
   "execution_count": null,
   "metadata": {},
   "outputs": [],
   "source": [
    "y_train_ada = y_train\n",
    "y_train_ada[y_train_ada==-1.]=0\n",
    "y_train_ada[y_train_ada==1.]=1\n",
    "y_test_ada = y_test\n",
    "y_test_ada[y_test_ada==-1.]=0\n",
    "y_test_ada[y_test_ada==1.]=1\n",
    "bdt = AdaBoostClassifier(n_estimators=100, random_state=0, learning_rate=0.1).fit(X_train, y_train_ada)\n",
    "\n",
    "\n",
    "print(bdt.score(X_test, y_test_ada))\n",
    "\n",
    "twoclass_output = bdt.predict_proba(X_test)[:,1]\n",
    "\n",
    "plot_range = (twoclass_output.min(), twoclass_output.max())\n",
    "for i, n, c in zip([1.,0.], ['signal','background'], ['blue', 'red']):\n",
    "    plt.hist(twoclass_output[y_test == i],\n",
    "             bins=10,\n",
    "             range=plot_range,\n",
    "             facecolor=c,\n",
    "             label= n,\n",
    "             alpha=.5,\n",
    "             edgecolor='k')\n",
    "x1, x2, y1, y2 = plt.axis()\n",
    "plt.axis((x1, x2, y1, y2 * 1.2))\n",
    "plt.legend(loc='upper right')\n",
    "plt.ylabel('Samples')\n",
    "plt.xlabel('Score')\n",
    "plt.title('Decision Scores')\n",
    "\n",
    "plt.tight_layout()\n",
    "plt.subplots_adjust(wspace=0.35)\n",
    "plt.show()\n",
    "\n",
    "importance = bdt.feature_importances_\n",
    "columns = sig.drop(columns=['entry','w_nominal','lepSF[0]', 'lepUp[0]', 'lepDown[0]', 'puSF[0]', 'puUp[0]','puDown[0]', 'PFSF[0]', 'PFUp[0]', 'PFDown[0]', 'q2Up[0]', 'q2Down[0]','w_PDF','SF_Fake[0]']).columns\n",
    "zipped = zip (columns, importance)\n",
    "z = list(sorted(zipped, key = lambda t: t[1],reverse=True))\n",
    "for i in range(0,len(z)):\n",
    "    print(z[i][0],\" ---------> \", z[i][1])\n",
    "\n",
    "\n",
    "from sklearn.metrics import roc_curve, auc\n",
    "\n",
    "fpr, tpr, _ = roc_curve(y_test_ada, bdt.decision_function(X_test))\n",
    "fpr, tpr, _ = roc_curve(y_test_ada, bdt.predict_proba(X_test)[:,1])\n",
    "roc_auc = auc(fpr, tpr)\n",
    "plt.figure()\n",
    "lw = 2\n",
    "plt.plot(1. - fpr, tpr, color='darkorange',\n",
    "         lw=lw, label='ROC curve (area = %0.2f)' % roc_auc)\n",
    "plt.plot([1, 0], [0, 1], color='navy', lw=lw, linestyle='--')\n",
    "plt.xlim([0.0, 1.0])\n",
    "plt.ylim([0.0, 1.05])\n",
    "plt.xlabel('Background rejection')\n",
    "plt.ylabel('Signal efficiency')\n",
    "plt.title('Receiver operating characteristic')\n",
    "plt.legend(loc=\"lower right\")\n",
    "plt.show()"
   ]
  }
 ],
 "metadata": {
  "kernelspec": {
   "display_name": "Python 3",
   "language": "python",
   "name": "python3"
  },
  "language_info": {
   "codemirror_mode": {
    "name": "ipython",
    "version": 3
   },
   "file_extension": ".py",
   "mimetype": "text/x-python",
   "name": "python",
   "nbconvert_exporter": "python",
   "pygments_lexer": "ipython3",
   "version": "3.7.6"
  }
 },
 "nbformat": 4,
 "nbformat_minor": 4
}

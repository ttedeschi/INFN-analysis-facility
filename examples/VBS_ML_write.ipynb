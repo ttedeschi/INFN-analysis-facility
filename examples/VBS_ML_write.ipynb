{
 "cells": [
  {
   "cell_type": "code",
   "execution_count": 1,
   "id": "bacterial-satin",
   "metadata": {},
   "outputs": [],
   "source": [
    "import uproot\n",
    "import pandas as pd"
   ]
  },
  {
   "cell_type": "code",
   "execution_count": 2,
   "id": "bibliographic-order",
   "metadata": {},
   "outputs": [
    {
     "name": "stdout",
     "output_type": "stream",
     "text": [
      "5618\n",
      "4156\n"
     ]
    }
   ],
   "source": [
    "file = uproot.open(\"/eos/home-t/ttedesch/VBS/nosynch/v30_18-02-21/WpWpJJ_EWK_2017/WpWpJJ_EWK_2017.root\")\n",
    "tree = file[\"events_all\"]\n",
    "#df_sig = tree.arrays(library=\"pd\")               # Pandas DataFrame\n",
    "df_sig = tree.pandas.df()\n",
    "#df_sig = df_sig[df_sig['pass_upToBVeto[0]']==1]\n",
    "print(df_sig.shape[0])\n",
    "df_sig.to_csv('WpWpJJ_EWK_2017.gz.csv', compression = 'gzip')\n",
    "df_sig = df_sig[df_sig['pass_upToBVeto[0]']==1]\n",
    "print(df_sig.shape[0])\n",
    "df_sig.to_csv('WpWpJJ_EWK_2017-pass_upToBVeto.gz.csv', compression = 'gzip')"
   ]
  },
  {
   "cell_type": "code",
   "execution_count": 3,
   "id": "packed-granny",
   "metadata": {},
   "outputs": [
    {
     "name": "stdout",
     "output_type": "stream",
     "text": [
      "267663\n",
      "78100\n"
     ]
    }
   ],
   "source": [
    "file = uproot.open(\"/eos/home-t/ttedesch/VBS/nosynch/v30_18-02-21/WJets_2017/WJets_2017.root\")\n",
    "tree = file[\"events_all\"]\n",
    "#df_sig = tree.arrays(library=\"pd\")               # Pandas DataFrame\n",
    "df_bkg = tree.pandas.df()\n",
    "#df_sig = df_sig[df_sig['pass_upToBVeto[0]']==1]\n",
    "print(df_bkg.shape[0])\n",
    "df_bkg.to_csv('Wjets_2017.gz.csv', compression = 'gzip')\n",
    "df_bkg = df_bkg[df_bkg['pass_upToBVeto[0]']==1]\n",
    "print(df_bkg.shape[0])\n",
    "df_bkg.to_csv('Wjets_2017-pass_upToBVeto.gz.csv', compression = 'gzip')\n"
   ]
  }
 ],
 "metadata": {
  "kernelspec": {
   "display_name": "Python 3",
   "language": "python",
   "name": "python3"
  },
  "language_info": {
   "codemirror_mode": {
    "name": "ipython",
    "version": 3
   },
   "file_extension": ".py",
   "mimetype": "text/x-python",
   "name": "python",
   "nbconvert_exporter": "python",
   "pygments_lexer": "ipython3",
   "version": "3.8.6"
  }
 },
 "nbformat": 4,
 "nbformat_minor": 5
}
